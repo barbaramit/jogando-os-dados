{
  "nbformat": 4,
  "nbformat_minor": 0,
  "metadata": {
    "colab": {
      "name": "Análise de Dados - Amazon Music.ipynb",
      "provenance": [],
      "collapsed_sections": [],
      "authorship_tag": "ABX9TyPB4dMnVI790QFa0LHErkSO"
    },
    "kernelspec": {
      "name": "python3",
      "display_name": "Python 3"
    },
    "language_info": {
      "name": "python"
    }
  },
  "cells": [
    {
      "cell_type": "markdown",
      "metadata": {
        "id": "cY8bkK8JmMR5"
      },
      "source": [
        "# Análise de Dados - Amazon Music\n",
        "A análise abaixo foi feita com os dados da minha conta que solicitei no site da Amazon. O objetivo foi realizar uma análise exploratória de dados em um dataset próprio, como forma de exercício. \n"
      ]
    },
    {
      "cell_type": "markdown",
      "metadata": {
        "id": "zsEq2IJrmaWY"
      },
      "source": [
        "## Obtenção dos Dados\n",
        "Os dados utilizados foram obtidos a partir da minha conta da Amazon e solicitados em AGO/2021. Para essa análise irei utilizar o arquivo `listings.csv`."
      ]
    },
    {
      "cell_type": "code",
      "metadata": {
        "id": "4aQSaeTJmwPK"
      },
      "source": [
        "# importar os pacotes necessarios\n",
        "import pandas as pd\n",
        "import matplotlib.pyplot as plt\n",
        "import seaborn as sns\n",
        "from wordcloud import WordCloud \n",
        "\n",
        "%matplotlib inline\n"
      ],
      "execution_count": null,
      "outputs": []
    },
    {
      "cell_type": "code",
      "metadata": {
        "id": "EdiAvP67nAIH"
      },
      "source": [
        "# importar o arquivo listings.csv para um DataFrame\n",
        "df = pd.read_csv(\"listening.csv\")"
      ],
      "execution_count": null,
      "outputs": []
    },
    {
      "cell_type": "markdown",
      "metadata": {
        "id": "U4Qtz5lAmqjR"
      },
      "source": [
        "## Entendendo os Dados\n"
      ]
    },
    {
      "cell_type": "markdown",
      "metadata": {
        "id": "a5KYtSvGmvsG"
      },
      "source": [
        "**Dicionário das variáveis principais**\n",
        "\n",
        "* `timestamp` - data/horário\n",
        "* `title` - nome da música\n",
        "* `consumptionDurationMs` - Tempo escutado em milissegundos\n",
        "* `trackLengthMs` - Duração da música em milissegundos\n",
        "* `terminationReason` - Motivo do término\n",
        "* `artistAsin` - Código que identifica o artista"
      ]
    },
    {
      "cell_type": "code",
      "metadata": {
        "id": "SHSypxrmnbaY",
        "colab": {
          "base_uri": "https://localhost:8080/",
          "height": 479
        },
        "outputId": "30c2db4c-98e8-47ac-9dca-739472711d69"
      },
      "source": [
        "df.head()"
      ],
      "execution_count": null,
      "outputs": [
        {
          "output_type": "execute_result",
          "data": {
            "text/html": [
              "<div>\n",
              "<style scoped>\n",
              "    .dataframe tbody tr th:only-of-type {\n",
              "        vertical-align: middle;\n",
              "    }\n",
              "\n",
              "    .dataframe tbody tr th {\n",
              "        vertical-align: top;\n",
              "    }\n",
              "\n",
              "    .dataframe thead th {\n",
              "        text-align: right;\n",
              "    }\n",
              "</style>\n",
              "<table border=\"1\" class=\"dataframe\">\n",
              "  <thead>\n",
              "    <tr style=\"text-align: right;\">\n",
              "      <th></th>\n",
              "      <th>timestamp</th>\n",
              "      <th>title</th>\n",
              "      <th>asin</th>\n",
              "      <th>consumptionDurationMs</th>\n",
              "      <th>terminationReason</th>\n",
              "      <th>deviceType</th>\n",
              "      <th>musicTerritory</th>\n",
              "      <th>isShufflePlay</th>\n",
              "      <th>titleSetAsin</th>\n",
              "      <th>trackLengthMs</th>\n",
              "      <th>artistAsin</th>\n",
              "      <th>selectionSourceArtistAsin</th>\n",
              "    </tr>\n",
              "  </thead>\n",
              "  <tbody>\n",
              "    <tr>\n",
              "      <th>0</th>\n",
              "      <td>2021-08-20 00:43:08 UTC</td>\n",
              "      <td>Snap Out Of It</td>\n",
              "      <td>B00MAZ7ZHY</td>\n",
              "      <td>193000</td>\n",
              "      <td>trackFinished</td>\n",
              "      <td>A16ZV8BU3SN1N3</td>\n",
              "      <td>BR</td>\n",
              "      <td>True</td>\n",
              "      <td>B077ZYL1PG</td>\n",
              "      <td>193000</td>\n",
              "      <td>B00122BV7Q</td>\n",
              "      <td>NaN</td>\n",
              "    </tr>\n",
              "    <tr>\n",
              "      <th>1</th>\n",
              "      <td>2021-08-20 00:39:52 UTC</td>\n",
              "      <td>The Jeweller's Hands</td>\n",
              "      <td>B073MSKP1Y</td>\n",
              "      <td>326000</td>\n",
              "      <td>userStop</td>\n",
              "      <td>A16ZV8BU3SN1N3</td>\n",
              "      <td>BR</td>\n",
              "      <td>True</td>\n",
              "      <td>B01N41L7CB</td>\n",
              "      <td>344000</td>\n",
              "      <td>B00122BV7Q</td>\n",
              "      <td>NaN</td>\n",
              "    </tr>\n",
              "    <tr>\n",
              "      <th>2</th>\n",
              "      <td>2021-08-20 00:34:24 UTC</td>\n",
              "      <td>Black Treacle</td>\n",
              "      <td>B073NQTD3P</td>\n",
              "      <td>8000</td>\n",
              "      <td>userStop</td>\n",
              "      <td>A16ZV8BU3SN1N3</td>\n",
              "      <td>BR</td>\n",
              "      <td>True</td>\n",
              "      <td>B01N65O4JE</td>\n",
              "      <td>217000</td>\n",
              "      <td>B00122BV7Q</td>\n",
              "      <td>NaN</td>\n",
              "    </tr>\n",
              "    <tr>\n",
              "      <th>3</th>\n",
              "      <td>2021-08-20 00:34:14 UTC</td>\n",
              "      <td>Potion Approaching</td>\n",
              "      <td>B073MR7CMT</td>\n",
              "      <td>212000</td>\n",
              "      <td>trackFinished</td>\n",
              "      <td>A16ZV8BU3SN1N3</td>\n",
              "      <td>BR</td>\n",
              "      <td>True</td>\n",
              "      <td>B01NA6F8U5</td>\n",
              "      <td>212000</td>\n",
              "      <td>B00122BV7Q</td>\n",
              "      <td>NaN</td>\n",
              "    </tr>\n",
              "    <tr>\n",
              "      <th>4</th>\n",
              "      <td>2021-08-20 00:30:40 UTC</td>\n",
              "      <td>Teddy Picker</td>\n",
              "      <td>B073MNZNVW</td>\n",
              "      <td>165000</td>\n",
              "      <td>trackFinished</td>\n",
              "      <td>A16ZV8BU3SN1N3</td>\n",
              "      <td>BR</td>\n",
              "      <td>True</td>\n",
              "      <td>B01LLY3XGG</td>\n",
              "      <td>165000</td>\n",
              "      <td>B00122BV7Q</td>\n",
              "      <td>NaN</td>\n",
              "    </tr>\n",
              "  </tbody>\n",
              "</table>\n",
              "</div>"
            ],
            "text/plain": [
              "                 timestamp  ... selectionSourceArtistAsin\n",
              "0  2021-08-20 00:43:08 UTC  ...                       NaN\n",
              "1  2021-08-20 00:39:52 UTC  ...                       NaN\n",
              "2  2021-08-20 00:34:24 UTC  ...                       NaN\n",
              "3  2021-08-20 00:34:14 UTC  ...                       NaN\n",
              "4  2021-08-20 00:30:40 UTC  ...                       NaN\n",
              "\n",
              "[5 rows x 12 columns]"
            ]
          },
          "metadata": {},
          "execution_count": 6
        }
      ]
    },
    {
      "cell_type": "markdown",
      "metadata": {
        "id": "I8nlDQ5aoSxQ"
      },
      "source": [
        "Logo nessa primeira análise já podemos perceber uma predominância de valores ausentes (NaN) na coluna `selectionSourceArtistAsin`. Além disso, percebe-se que não temos o nome do artista, somente o seu Asin."
      ]
    },
    {
      "cell_type": "markdown",
      "metadata": {
        "id": "qpavnuyuoh0n"
      },
      "source": [
        "### **Quantos atributos (variáveis) e quantas entradas o nosso conjunto de dados possui? Quais os tipos das variáveis?**\n",
        "Em seguida, vamos identificar a quantidade de entradas que nosso conjunto de dados possui e os tipos de cada coluna."
      ]
    },
    {
      "cell_type": "code",
      "metadata": {
        "colab": {
          "base_uri": "https://localhost:8080/"
        },
        "id": "1tREZtvqysvX",
        "outputId": "5b109ef3-eac8-4bb8-9ec3-dc84f0cd0b13"
      },
      "source": [
        "# identificar o volume de dados do DataFrame\n",
        "print(\"Entradas:\\t {}\".format(df.shape[0]))\n",
        "print(\"Variáveis:\\t {}\\n\".format(df.shape[1]))\n",
        "\n",
        "# verificar os tipos do dataset e se há dados ausentes\n",
        "df.info()"
      ],
      "execution_count": null,
      "outputs": [
        {
          "output_type": "stream",
          "name": "stdout",
          "text": [
            "Entradas:\t 3382\n",
            "Variáveis:\t 12\n",
            "\n",
            "<class 'pandas.core.frame.DataFrame'>\n",
            "RangeIndex: 3382 entries, 0 to 3381\n",
            "Data columns (total 12 columns):\n",
            " #   Column                     Non-Null Count  Dtype \n",
            "---  ------                     --------------  ----- \n",
            " 0   timestamp                  3382 non-null   object\n",
            " 1   title                      3382 non-null   object\n",
            " 2   asin                       3382 non-null   object\n",
            " 3   consumptionDurationMs      3382 non-null   int64 \n",
            " 4   terminationReason          3382 non-null   object\n",
            " 5   deviceType                 3382 non-null   object\n",
            " 6   musicTerritory             3382 non-null   object\n",
            " 7   isShufflePlay              3382 non-null   bool  \n",
            " 8   titleSetAsin               3382 non-null   object\n",
            " 9   trackLengthMs              3382 non-null   int64 \n",
            " 10  artistAsin                 3382 non-null   object\n",
            " 11  selectionSourceArtistAsin  188 non-null    object\n",
            "dtypes: bool(1), int64(2), object(9)\n",
            "memory usage: 294.1+ KB\n"
          ]
        }
      ]
    },
    {
      "cell_type": "markdown",
      "metadata": {
        "id": "-UYnaMmNppar"
      },
      "source": [
        "#### Eliminando colunas que não serão utilizadas na análise"
      ]
    },
    {
      "cell_type": "code",
      "metadata": {
        "id": "IDAtcPjgzecb",
        "colab": {
          "base_uri": "https://localhost:8080/"
        },
        "outputId": "5324af30-210f-441b-8684-727d01db8d82"
      },
      "source": [
        "# Eliminando as colunas\n",
        "df.drop(['titleSetAsin', 'selectionSourceArtistAsin', 'asin'], axis=1, inplace=True) \n",
        "\n",
        "print(\"Entradas:\\t {}\".format(df.shape[0]))"
      ],
      "execution_count": null,
      "outputs": [
        {
          "output_type": "stream",
          "name": "stdout",
          "text": [
            "Entradas:\t 3382\n"
          ]
        }
      ]
    },
    {
      "cell_type": "markdown",
      "metadata": {
        "id": "MHLQPfbkpQx8"
      },
      "source": [
        "#### Convertendo tipo Object em Datetime\n",
        "Vamos converter `timestamp` para Datetime, um formato de data e hora que o Pandas consegue realizar cálculos, e de UTC para nosso fuso horário local."
      ]
    },
    {
      "cell_type": "code",
      "metadata": {
        "colab": {
          "base_uri": "https://localhost:8080/"
        },
        "id": "89K0Y8yf2lrS",
        "outputId": "4fdbb6ed-e5f1-413e-cdda-6f09e755093d"
      },
      "source": [
        "df['timestamp'] = pd.to_datetime(df['timestamp'], utc=True)\n",
        "df.dtypes"
      ],
      "execution_count": null,
      "outputs": [
        {
          "output_type": "execute_result",
          "data": {
            "text/plain": [
              "timestamp                    datetime64[ns, UTC]\n",
              "title                                     object\n",
              "asin                                      object\n",
              "consumptionDurationMs                      int64\n",
              "terminationReason                         object\n",
              "deviceType                                object\n",
              "musicTerritory                            object\n",
              "isShufflePlay                               bool\n",
              "titleSetAsin                              object\n",
              "trackLengthMs                              int64\n",
              "artistAsin                                object\n",
              "selectionSourceArtistAsin                 object\n",
              "dtype: object"
            ]
          },
          "metadata": {},
          "execution_count": 4
        }
      ]
    },
    {
      "cell_type": "code",
      "metadata": {
        "colab": {
          "base_uri": "https://localhost:8080/",
          "height": 531
        },
        "id": "DEB3i3Xv3dRN",
        "outputId": "67a9b9ed-ab20-4dad-a329-613c309c4f8a"
      },
      "source": [
        "# mudando a coluna timestamp para o índice do dataframe\n",
        "df = df.set_index('timestamp')\n",
        "\n",
        "# convertendo o fuso horário UTC\n",
        "df.index = df.index.tz_convert('America/Sao_Paulo')\n",
        "\n",
        "# redefinindo o indice para que timestamp vire coluna novamente\n",
        "df = df.reset_index()\n",
        "\n",
        "df.head()"
      ],
      "execution_count": null,
      "outputs": [
        {
          "output_type": "execute_result",
          "data": {
            "text/plain": [
              "                  timestamp                 title        asin  \\\n",
              "0 2021-08-19 21:43:08-03:00        Snap Out Of It  B00MAZ7ZHY   \n",
              "1 2021-08-19 21:39:52-03:00  The Jeweller's Hands  B073MSKP1Y   \n",
              "2 2021-08-19 21:34:24-03:00         Black Treacle  B073NQTD3P   \n",
              "3 2021-08-19 21:34:14-03:00    Potion Approaching  B073MR7CMT   \n",
              "4 2021-08-19 21:30:40-03:00          Teddy Picker  B073MNZNVW   \n",
              "\n",
              "   consumptionDurationMs terminationReason      deviceType musicTerritory  \\\n",
              "0                 193000     trackFinished  A16ZV8BU3SN1N3             BR   \n",
              "1                 326000          userStop  A16ZV8BU3SN1N3             BR   \n",
              "2                   8000          userStop  A16ZV8BU3SN1N3             BR   \n",
              "3                 212000     trackFinished  A16ZV8BU3SN1N3             BR   \n",
              "4                 165000     trackFinished  A16ZV8BU3SN1N3             BR   \n",
              "\n",
              "   isShufflePlay titleSetAsin  trackLengthMs  artistAsin  \\\n",
              "0           True   B077ZYL1PG         193000  B00122BV7Q   \n",
              "1           True   B01N41L7CB         344000  B00122BV7Q   \n",
              "2           True   B01N65O4JE         217000  B00122BV7Q   \n",
              "3           True   B01NA6F8U5         212000  B00122BV7Q   \n",
              "4           True   B01LLY3XGG         165000  B00122BV7Q   \n",
              "\n",
              "  selectionSourceArtistAsin  \n",
              "0                       NaN  \n",
              "1                       NaN  \n",
              "2                       NaN  \n",
              "3                       NaN  \n",
              "4                       NaN  "
            ],
            "text/html": [
              "\n",
              "  <div id=\"df-8c78cd57-b7a1-4958-a488-b9162fba41cf\">\n",
              "    <div class=\"colab-df-container\">\n",
              "      <div>\n",
              "<style scoped>\n",
              "    .dataframe tbody tr th:only-of-type {\n",
              "        vertical-align: middle;\n",
              "    }\n",
              "\n",
              "    .dataframe tbody tr th {\n",
              "        vertical-align: top;\n",
              "    }\n",
              "\n",
              "    .dataframe thead th {\n",
              "        text-align: right;\n",
              "    }\n",
              "</style>\n",
              "<table border=\"1\" class=\"dataframe\">\n",
              "  <thead>\n",
              "    <tr style=\"text-align: right;\">\n",
              "      <th></th>\n",
              "      <th>timestamp</th>\n",
              "      <th>title</th>\n",
              "      <th>asin</th>\n",
              "      <th>consumptionDurationMs</th>\n",
              "      <th>terminationReason</th>\n",
              "      <th>deviceType</th>\n",
              "      <th>musicTerritory</th>\n",
              "      <th>isShufflePlay</th>\n",
              "      <th>titleSetAsin</th>\n",
              "      <th>trackLengthMs</th>\n",
              "      <th>artistAsin</th>\n",
              "      <th>selectionSourceArtistAsin</th>\n",
              "    </tr>\n",
              "  </thead>\n",
              "  <tbody>\n",
              "    <tr>\n",
              "      <th>0</th>\n",
              "      <td>2021-08-19 21:43:08-03:00</td>\n",
              "      <td>Snap Out Of It</td>\n",
              "      <td>B00MAZ7ZHY</td>\n",
              "      <td>193000</td>\n",
              "      <td>trackFinished</td>\n",
              "      <td>A16ZV8BU3SN1N3</td>\n",
              "      <td>BR</td>\n",
              "      <td>True</td>\n",
              "      <td>B077ZYL1PG</td>\n",
              "      <td>193000</td>\n",
              "      <td>B00122BV7Q</td>\n",
              "      <td>NaN</td>\n",
              "    </tr>\n",
              "    <tr>\n",
              "      <th>1</th>\n",
              "      <td>2021-08-19 21:39:52-03:00</td>\n",
              "      <td>The Jeweller's Hands</td>\n",
              "      <td>B073MSKP1Y</td>\n",
              "      <td>326000</td>\n",
              "      <td>userStop</td>\n",
              "      <td>A16ZV8BU3SN1N3</td>\n",
              "      <td>BR</td>\n",
              "      <td>True</td>\n",
              "      <td>B01N41L7CB</td>\n",
              "      <td>344000</td>\n",
              "      <td>B00122BV7Q</td>\n",
              "      <td>NaN</td>\n",
              "    </tr>\n",
              "    <tr>\n",
              "      <th>2</th>\n",
              "      <td>2021-08-19 21:34:24-03:00</td>\n",
              "      <td>Black Treacle</td>\n",
              "      <td>B073NQTD3P</td>\n",
              "      <td>8000</td>\n",
              "      <td>userStop</td>\n",
              "      <td>A16ZV8BU3SN1N3</td>\n",
              "      <td>BR</td>\n",
              "      <td>True</td>\n",
              "      <td>B01N65O4JE</td>\n",
              "      <td>217000</td>\n",
              "      <td>B00122BV7Q</td>\n",
              "      <td>NaN</td>\n",
              "    </tr>\n",
              "    <tr>\n",
              "      <th>3</th>\n",
              "      <td>2021-08-19 21:34:14-03:00</td>\n",
              "      <td>Potion Approaching</td>\n",
              "      <td>B073MR7CMT</td>\n",
              "      <td>212000</td>\n",
              "      <td>trackFinished</td>\n",
              "      <td>A16ZV8BU3SN1N3</td>\n",
              "      <td>BR</td>\n",
              "      <td>True</td>\n",
              "      <td>B01NA6F8U5</td>\n",
              "      <td>212000</td>\n",
              "      <td>B00122BV7Q</td>\n",
              "      <td>NaN</td>\n",
              "    </tr>\n",
              "    <tr>\n",
              "      <th>4</th>\n",
              "      <td>2021-08-19 21:30:40-03:00</td>\n",
              "      <td>Teddy Picker</td>\n",
              "      <td>B073MNZNVW</td>\n",
              "      <td>165000</td>\n",
              "      <td>trackFinished</td>\n",
              "      <td>A16ZV8BU3SN1N3</td>\n",
              "      <td>BR</td>\n",
              "      <td>True</td>\n",
              "      <td>B01LLY3XGG</td>\n",
              "      <td>165000</td>\n",
              "      <td>B00122BV7Q</td>\n",
              "      <td>NaN</td>\n",
              "    </tr>\n",
              "  </tbody>\n",
              "</table>\n",
              "</div>\n",
              "      <button class=\"colab-df-convert\" onclick=\"convertToInteractive('df-8c78cd57-b7a1-4958-a488-b9162fba41cf')\"\n",
              "              title=\"Convert this dataframe to an interactive table.\"\n",
              "              style=\"display:none;\">\n",
              "        \n",
              "  <svg xmlns=\"http://www.w3.org/2000/svg\" height=\"24px\"viewBox=\"0 0 24 24\"\n",
              "       width=\"24px\">\n",
              "    <path d=\"M0 0h24v24H0V0z\" fill=\"none\"/>\n",
              "    <path d=\"M18.56 5.44l.94 2.06.94-2.06 2.06-.94-2.06-.94-.94-2.06-.94 2.06-2.06.94zm-11 1L8.5 8.5l.94-2.06 2.06-.94-2.06-.94L8.5 2.5l-.94 2.06-2.06.94zm10 10l.94 2.06.94-2.06 2.06-.94-2.06-.94-.94-2.06-.94 2.06-2.06.94z\"/><path d=\"M17.41 7.96l-1.37-1.37c-.4-.4-.92-.59-1.43-.59-.52 0-1.04.2-1.43.59L10.3 9.45l-7.72 7.72c-.78.78-.78 2.05 0 2.83L4 21.41c.39.39.9.59 1.41.59.51 0 1.02-.2 1.41-.59l7.78-7.78 2.81-2.81c.8-.78.8-2.07 0-2.86zM5.41 20L4 18.59l7.72-7.72 1.47 1.35L5.41 20z\"/>\n",
              "  </svg>\n",
              "      </button>\n",
              "      \n",
              "  <style>\n",
              "    .colab-df-container {\n",
              "      display:flex;\n",
              "      flex-wrap:wrap;\n",
              "      gap: 12px;\n",
              "    }\n",
              "\n",
              "    .colab-df-convert {\n",
              "      background-color: #E8F0FE;\n",
              "      border: none;\n",
              "      border-radius: 50%;\n",
              "      cursor: pointer;\n",
              "      display: none;\n",
              "      fill: #1967D2;\n",
              "      height: 32px;\n",
              "      padding: 0 0 0 0;\n",
              "      width: 32px;\n",
              "    }\n",
              "\n",
              "    .colab-df-convert:hover {\n",
              "      background-color: #E2EBFA;\n",
              "      box-shadow: 0px 1px 2px rgba(60, 64, 67, 0.3), 0px 1px 3px 1px rgba(60, 64, 67, 0.15);\n",
              "      fill: #174EA6;\n",
              "    }\n",
              "\n",
              "    [theme=dark] .colab-df-convert {\n",
              "      background-color: #3B4455;\n",
              "      fill: #D2E3FC;\n",
              "    }\n",
              "\n",
              "    [theme=dark] .colab-df-convert:hover {\n",
              "      background-color: #434B5C;\n",
              "      box-shadow: 0px 1px 3px 1px rgba(0, 0, 0, 0.15);\n",
              "      filter: drop-shadow(0px 1px 2px rgba(0, 0, 0, 0.3));\n",
              "      fill: #FFFFFF;\n",
              "    }\n",
              "  </style>\n",
              "\n",
              "      <script>\n",
              "        const buttonEl =\n",
              "          document.querySelector('#df-8c78cd57-b7a1-4958-a488-b9162fba41cf button.colab-df-convert');\n",
              "        buttonEl.style.display =\n",
              "          google.colab.kernel.accessAllowed ? 'block' : 'none';\n",
              "\n",
              "        async function convertToInteractive(key) {\n",
              "          const element = document.querySelector('#df-8c78cd57-b7a1-4958-a488-b9162fba41cf');\n",
              "          const dataTable =\n",
              "            await google.colab.kernel.invokeFunction('convertToInteractive',\n",
              "                                                     [key], {});\n",
              "          if (!dataTable) return;\n",
              "\n",
              "          const docLinkHtml = 'Like what you see? Visit the ' +\n",
              "            '<a target=\"_blank\" href=https://colab.research.google.com/notebooks/data_table.ipynb>data table notebook</a>'\n",
              "            + ' to learn more about interactive tables.';\n",
              "          element.innerHTML = '';\n",
              "          dataTable['output_type'] = 'display_data';\n",
              "          await google.colab.output.renderOutput(dataTable, element);\n",
              "          const docLink = document.createElement('div');\n",
              "          docLink.innerHTML = docLinkHtml;\n",
              "          element.appendChild(docLink);\n",
              "        }\n",
              "      </script>\n",
              "    </div>\n",
              "  </div>\n",
              "  "
            ]
          },
          "metadata": {},
          "execution_count": 5
        }
      ]
    },
    {
      "cell_type": "markdown",
      "metadata": {
        "id": "O1RmHf5nrjr8"
      },
      "source": [
        "#### Criando as colunas `hour` e  `weekday`"
      ]
    },
    {
      "cell_type": "code",
      "metadata": {
        "colab": {
          "base_uri": "https://localhost:8080/",
          "height": 531
        },
        "id": "1H1NH0UMPlSw",
        "outputId": "e6dc5e1b-2f62-4f69-e225-18bc0e4063dc"
      },
      "source": [
        "# criando uma coluna com o dia da semana (Segunda=0, Domingo=6)\n",
        "df['weekday'] = df['timestamp'].dt.weekday\n",
        "\n",
        "# criando a coluna \"hour\" \n",
        "df['hour'] = df['timestamp'].dt.hour\n",
        "\n",
        "df.head()"
      ],
      "execution_count": null,
      "outputs": [
        {
          "output_type": "execute_result",
          "data": {
            "text/plain": [
              "                  timestamp                 title        asin  \\\n",
              "0 2021-08-19 21:43:08-03:00        Snap Out Of It  B00MAZ7ZHY   \n",
              "1 2021-08-19 21:39:52-03:00  The Jeweller's Hands  B073MSKP1Y   \n",
              "2 2021-08-19 21:34:24-03:00         Black Treacle  B073NQTD3P   \n",
              "3 2021-08-19 21:34:14-03:00    Potion Approaching  B073MR7CMT   \n",
              "4 2021-08-19 21:30:40-03:00          Teddy Picker  B073MNZNVW   \n",
              "\n",
              "   consumptionDurationMs terminationReason      deviceType musicTerritory  \\\n",
              "0                 193000     trackFinished  A16ZV8BU3SN1N3             BR   \n",
              "1                 326000          userStop  A16ZV8BU3SN1N3             BR   \n",
              "2                   8000          userStop  A16ZV8BU3SN1N3             BR   \n",
              "3                 212000     trackFinished  A16ZV8BU3SN1N3             BR   \n",
              "4                 165000     trackFinished  A16ZV8BU3SN1N3             BR   \n",
              "\n",
              "   isShufflePlay titleSetAsin  trackLengthMs  artistAsin  \\\n",
              "0           True   B077ZYL1PG         193000  B00122BV7Q   \n",
              "1           True   B01N41L7CB         344000  B00122BV7Q   \n",
              "2           True   B01N65O4JE         217000  B00122BV7Q   \n",
              "3           True   B01NA6F8U5         212000  B00122BV7Q   \n",
              "4           True   B01LLY3XGG         165000  B00122BV7Q   \n",
              "\n",
              "  selectionSourceArtistAsin  weekday  hour  \n",
              "0                       NaN        3    21  \n",
              "1                       NaN        3    21  \n",
              "2                       NaN        3    21  \n",
              "3                       NaN        3    21  \n",
              "4                       NaN        3    21  "
            ],
            "text/html": [
              "\n",
              "  <div id=\"df-1d0df8ed-ef62-4f07-b1e5-23185de2fa2c\">\n",
              "    <div class=\"colab-df-container\">\n",
              "      <div>\n",
              "<style scoped>\n",
              "    .dataframe tbody tr th:only-of-type {\n",
              "        vertical-align: middle;\n",
              "    }\n",
              "\n",
              "    .dataframe tbody tr th {\n",
              "        vertical-align: top;\n",
              "    }\n",
              "\n",
              "    .dataframe thead th {\n",
              "        text-align: right;\n",
              "    }\n",
              "</style>\n",
              "<table border=\"1\" class=\"dataframe\">\n",
              "  <thead>\n",
              "    <tr style=\"text-align: right;\">\n",
              "      <th></th>\n",
              "      <th>timestamp</th>\n",
              "      <th>title</th>\n",
              "      <th>asin</th>\n",
              "      <th>consumptionDurationMs</th>\n",
              "      <th>terminationReason</th>\n",
              "      <th>deviceType</th>\n",
              "      <th>musicTerritory</th>\n",
              "      <th>isShufflePlay</th>\n",
              "      <th>titleSetAsin</th>\n",
              "      <th>trackLengthMs</th>\n",
              "      <th>artistAsin</th>\n",
              "      <th>selectionSourceArtistAsin</th>\n",
              "      <th>weekday</th>\n",
              "      <th>hour</th>\n",
              "    </tr>\n",
              "  </thead>\n",
              "  <tbody>\n",
              "    <tr>\n",
              "      <th>0</th>\n",
              "      <td>2021-08-19 21:43:08-03:00</td>\n",
              "      <td>Snap Out Of It</td>\n",
              "      <td>B00MAZ7ZHY</td>\n",
              "      <td>193000</td>\n",
              "      <td>trackFinished</td>\n",
              "      <td>A16ZV8BU3SN1N3</td>\n",
              "      <td>BR</td>\n",
              "      <td>True</td>\n",
              "      <td>B077ZYL1PG</td>\n",
              "      <td>193000</td>\n",
              "      <td>B00122BV7Q</td>\n",
              "      <td>NaN</td>\n",
              "      <td>3</td>\n",
              "      <td>21</td>\n",
              "    </tr>\n",
              "    <tr>\n",
              "      <th>1</th>\n",
              "      <td>2021-08-19 21:39:52-03:00</td>\n",
              "      <td>The Jeweller's Hands</td>\n",
              "      <td>B073MSKP1Y</td>\n",
              "      <td>326000</td>\n",
              "      <td>userStop</td>\n",
              "      <td>A16ZV8BU3SN1N3</td>\n",
              "      <td>BR</td>\n",
              "      <td>True</td>\n",
              "      <td>B01N41L7CB</td>\n",
              "      <td>344000</td>\n",
              "      <td>B00122BV7Q</td>\n",
              "      <td>NaN</td>\n",
              "      <td>3</td>\n",
              "      <td>21</td>\n",
              "    </tr>\n",
              "    <tr>\n",
              "      <th>2</th>\n",
              "      <td>2021-08-19 21:34:24-03:00</td>\n",
              "      <td>Black Treacle</td>\n",
              "      <td>B073NQTD3P</td>\n",
              "      <td>8000</td>\n",
              "      <td>userStop</td>\n",
              "      <td>A16ZV8BU3SN1N3</td>\n",
              "      <td>BR</td>\n",
              "      <td>True</td>\n",
              "      <td>B01N65O4JE</td>\n",
              "      <td>217000</td>\n",
              "      <td>B00122BV7Q</td>\n",
              "      <td>NaN</td>\n",
              "      <td>3</td>\n",
              "      <td>21</td>\n",
              "    </tr>\n",
              "    <tr>\n",
              "      <th>3</th>\n",
              "      <td>2021-08-19 21:34:14-03:00</td>\n",
              "      <td>Potion Approaching</td>\n",
              "      <td>B073MR7CMT</td>\n",
              "      <td>212000</td>\n",
              "      <td>trackFinished</td>\n",
              "      <td>A16ZV8BU3SN1N3</td>\n",
              "      <td>BR</td>\n",
              "      <td>True</td>\n",
              "      <td>B01NA6F8U5</td>\n",
              "      <td>212000</td>\n",
              "      <td>B00122BV7Q</td>\n",
              "      <td>NaN</td>\n",
              "      <td>3</td>\n",
              "      <td>21</td>\n",
              "    </tr>\n",
              "    <tr>\n",
              "      <th>4</th>\n",
              "      <td>2021-08-19 21:30:40-03:00</td>\n",
              "      <td>Teddy Picker</td>\n",
              "      <td>B073MNZNVW</td>\n",
              "      <td>165000</td>\n",
              "      <td>trackFinished</td>\n",
              "      <td>A16ZV8BU3SN1N3</td>\n",
              "      <td>BR</td>\n",
              "      <td>True</td>\n",
              "      <td>B01LLY3XGG</td>\n",
              "      <td>165000</td>\n",
              "      <td>B00122BV7Q</td>\n",
              "      <td>NaN</td>\n",
              "      <td>3</td>\n",
              "      <td>21</td>\n",
              "    </tr>\n",
              "  </tbody>\n",
              "</table>\n",
              "</div>\n",
              "      <button class=\"colab-df-convert\" onclick=\"convertToInteractive('df-1d0df8ed-ef62-4f07-b1e5-23185de2fa2c')\"\n",
              "              title=\"Convert this dataframe to an interactive table.\"\n",
              "              style=\"display:none;\">\n",
              "        \n",
              "  <svg xmlns=\"http://www.w3.org/2000/svg\" height=\"24px\"viewBox=\"0 0 24 24\"\n",
              "       width=\"24px\">\n",
              "    <path d=\"M0 0h24v24H0V0z\" fill=\"none\"/>\n",
              "    <path d=\"M18.56 5.44l.94 2.06.94-2.06 2.06-.94-2.06-.94-.94-2.06-.94 2.06-2.06.94zm-11 1L8.5 8.5l.94-2.06 2.06-.94-2.06-.94L8.5 2.5l-.94 2.06-2.06.94zm10 10l.94 2.06.94-2.06 2.06-.94-2.06-.94-.94-2.06-.94 2.06-2.06.94z\"/><path d=\"M17.41 7.96l-1.37-1.37c-.4-.4-.92-.59-1.43-.59-.52 0-1.04.2-1.43.59L10.3 9.45l-7.72 7.72c-.78.78-.78 2.05 0 2.83L4 21.41c.39.39.9.59 1.41.59.51 0 1.02-.2 1.41-.59l7.78-7.78 2.81-2.81c.8-.78.8-2.07 0-2.86zM5.41 20L4 18.59l7.72-7.72 1.47 1.35L5.41 20z\"/>\n",
              "  </svg>\n",
              "      </button>\n",
              "      \n",
              "  <style>\n",
              "    .colab-df-container {\n",
              "      display:flex;\n",
              "      flex-wrap:wrap;\n",
              "      gap: 12px;\n",
              "    }\n",
              "\n",
              "    .colab-df-convert {\n",
              "      background-color: #E8F0FE;\n",
              "      border: none;\n",
              "      border-radius: 50%;\n",
              "      cursor: pointer;\n",
              "      display: none;\n",
              "      fill: #1967D2;\n",
              "      height: 32px;\n",
              "      padding: 0 0 0 0;\n",
              "      width: 32px;\n",
              "    }\n",
              "\n",
              "    .colab-df-convert:hover {\n",
              "      background-color: #E2EBFA;\n",
              "      box-shadow: 0px 1px 2px rgba(60, 64, 67, 0.3), 0px 1px 3px 1px rgba(60, 64, 67, 0.15);\n",
              "      fill: #174EA6;\n",
              "    }\n",
              "\n",
              "    [theme=dark] .colab-df-convert {\n",
              "      background-color: #3B4455;\n",
              "      fill: #D2E3FC;\n",
              "    }\n",
              "\n",
              "    [theme=dark] .colab-df-convert:hover {\n",
              "      background-color: #434B5C;\n",
              "      box-shadow: 0px 1px 3px 1px rgba(0, 0, 0, 0.15);\n",
              "      filter: drop-shadow(0px 1px 2px rgba(0, 0, 0, 0.3));\n",
              "      fill: #FFFFFF;\n",
              "    }\n",
              "  </style>\n",
              "\n",
              "      <script>\n",
              "        const buttonEl =\n",
              "          document.querySelector('#df-1d0df8ed-ef62-4f07-b1e5-23185de2fa2c button.colab-df-convert');\n",
              "        buttonEl.style.display =\n",
              "          google.colab.kernel.accessAllowed ? 'block' : 'none';\n",
              "\n",
              "        async function convertToInteractive(key) {\n",
              "          const element = document.querySelector('#df-1d0df8ed-ef62-4f07-b1e5-23185de2fa2c');\n",
              "          const dataTable =\n",
              "            await google.colab.kernel.invokeFunction('convertToInteractive',\n",
              "                                                     [key], {});\n",
              "          if (!dataTable) return;\n",
              "\n",
              "          const docLinkHtml = 'Like what you see? Visit the ' +\n",
              "            '<a target=\"_blank\" href=https://colab.research.google.com/notebooks/data_table.ipynb>data table notebook</a>'\n",
              "            + ' to learn more about interactive tables.';\n",
              "          element.innerHTML = '';\n",
              "          dataTable['output_type'] = 'display_data';\n",
              "          await google.colab.output.renderOutput(dataTable, element);\n",
              "          const docLink = document.createElement('div');\n",
              "          docLink.innerHTML = docLinkHtml;\n",
              "          element.appendChild(docLink);\n",
              "        }\n",
              "      </script>\n",
              "    </div>\n",
              "  </div>\n",
              "  "
            ]
          },
          "metadata": {},
          "execution_count": 6
        }
      ]
    },
    {
      "cell_type": "markdown",
      "metadata": {
        "id": "SWAk1pyKsif8"
      },
      "source": [
        "#### Transformando de miliseconds para minutes"
      ]
    },
    {
      "cell_type": "code",
      "metadata": {
        "colab": {
          "base_uri": "https://localhost:8080/"
        },
        "id": "4Hu3Q2-2452g",
        "outputId": "9cc65509-daf6-4c5e-ec8b-ef77e3e6c13d"
      },
      "source": [
        "# De miliseconds para minutes - Coluna consumptionDurationMs\n",
        "df.consumptionDurationMs = df.consumptionDurationMs.apply(lambda x:(x/(1000*60))%60)   \n",
        "df.consumptionDurationMs = df.consumptionDurationMs.round(decimals=2)\n",
        "\n",
        "# De miliseconds para minutes - Coluna trackLengthMs\n",
        "df.trackLengthMs = df.trackLengthMs.apply(lambda x:(x/(1000*60))%60)  \n",
        "df.trackLengthMs = df.trackLengthMs.round(decimals=2)\n",
        "\n",
        "# Renomeando as colunas\n",
        "df.rename(columns={'consumptionDurationMs':'consumptionDurationMin', 'trackLengthMs':'trackLengthMin'}, inplace=True)\n",
        "df.head()\n",
        "\n",
        "# Eliminando linhas consumptionDurationMs < 0.2 (12s)\n",
        "df.drop(df[df.consumptionDurationMin < 0.2].index, axis=0, inplace=True)\n",
        "\n",
        "print(\"Entradas:\\t {}\".format(df.shape[0]))"
      ],
      "execution_count": null,
      "outputs": [
        {
          "output_type": "stream",
          "name": "stdout",
          "text": [
            "Entradas:\t 2375\n"
          ]
        }
      ]
    },
    {
      "cell_type": "markdown",
      "metadata": {
        "id": "ZDk5Ygeqt8O5"
      },
      "source": [
        "### Renomeando o artista na coluna `artistAsin`\n",
        "Como dito anteriormente, não temos o nome do artista, apenas o seu código. Para facilitar a análise e a visualização dos dados, eu utilizei uma das funcionalidades da biblioteca Selenium (find_element_by_xpath) para encontrar o nome do artista na internet. \n",
        "\n",
        "Estou tentando melhorar o código, então não irei entrar em detalhes no momento de como fiz."
      ]
    },
    {
      "cell_type": "code",
      "metadata": {
        "id": "CqonLsFfvlUn"
      },
      "source": [
        "from selenium import webdriver\n",
        "from selenium.webdriver.common.keys import Keys\n",
        "navegador = webdriver.Chrome('chromedriver',options=options)\n",
        "import time\n",
        "..."
      ],
      "execution_count": null,
      "outputs": []
    },
    {
      "cell_type": "code",
      "metadata": {
        "id": "_8vpIZELu5B9"
      },
      "source": [
        "# Por fim, renomeando a coluna\n",
        "df.rename(columns={'artistAsin':'artistName'}, inplace=True)"
      ],
      "execution_count": null,
      "outputs": []
    },
    {
      "cell_type": "markdown",
      "metadata": {
        "id": "ib42uKBLuv8D"
      },
      "source": [
        "## Análise dos Dados\n"
      ]
    },
    {
      "cell_type": "markdown",
      "metadata": {
        "id": "GmJn5XnWwe8l"
      },
      "source": [
        "###**Q1.Verificando quanto tempo de audio foi escutado nesse periodo**"
      ]
    },
    {
      "cell_type": "code",
      "metadata": {
        "id": "UkyFjfodJnLt",
        "colab": {
          "base_uri": "https://localhost:8080/"
        },
        "outputId": "4ce18f9a-470a-401e-ccce-06101b0914ce"
      },
      "source": [
        "inicio = df.timestamp.min().strftime('%d/%m/%Y')\n",
        "fim = df.timestamp.max().strftime('%d/%m/%Y')\n",
        "\n",
        "print(\"Foi escutado {} horas de músicas entre os dias {} e {}.\" .format\n",
        "      (int(df.consumptionDurationMin.sum()/60), inicio, fim))\n"
      ],
      "execution_count": null,
      "outputs": [
        {
          "output_type": "stream",
          "name": "stdout",
          "text": [
            "Foi escutado 103 horas de músicas entre os dias 13/08/2020 e 19/08/2021\n"
          ]
        }
      ]
    },
    {
      "cell_type": "code",
      "metadata": {
        "colab": {
          "base_uri": "https://localhost:8080/"
        },
        "id": "m7stF-E2pslL",
        "outputId": "0bc193fd-28d7-4ba7-ece3-652c9b2c66db"
      },
      "source": [
        "# agrupando dados por data e minutos escutados\n",
        "minutosDia = df.groupby('timestamp')[['consumptionDurationMin']].sum()\n",
        "\n",
        "# agrupando dados por dias e verificando a média de minutos escutados\n",
        "mediaMinutosDia = minutosDia.resample('d').sum().round().mean()\n",
        "\n",
        "# agrupando dados por dias e verificando o máximo de minutos\n",
        "maximoMinutosDia = minutosDia.resample('d').sum().round().max()\n",
        "print('A média diária de minutos escutados foi de {} min e o máximo de horas escutadas em um dia foi de {} horas.'\n",
        "    .format(mediaMinutosDia[0].round(2), int(maximoMinutosDia[0]/60)))"
      ],
      "execution_count": null,
      "outputs": [
        {
          "output_type": "stream",
          "name": "stdout",
          "text": [
            "A média diária de minutos escutados foi de 16.75 min e o máximo de horas escutadas em um dia foi de 6 horas\n"
          ]
        }
      ]
    },
    {
      "cell_type": "markdown",
      "metadata": {
        "id": "nJ_3fQlojbhe"
      },
      "source": [
        "###**Q2.Quais os 10 artistas mais tocados e os mais ouvidos?**"
      ]
    },
    {
      "cell_type": "code",
      "metadata": {
        "colab": {
          "base_uri": "https://localhost:8080/"
        },
        "id": "AiabAIUJC0Gn",
        "outputId": "e05b3ff1-d6b1-4c44-a7f9-dd2c9358377b"
      },
      "source": [
        "df.artistName.value_counts()[:10]"
      ],
      "execution_count": null,
      "outputs": [
        {
          "output_type": "execute_result",
          "data": {
            "text/plain": [
              "Arctic Monkeys          2135\n",
              "Carla Bruni               53\n",
              "Françoise Hardy           21\n",
              "Dead Or Alive             19\n",
              "Madeleine Peyroux         15\n",
              "Sacha Distel              12\n",
              "Pink Floyd                12\n",
              "Keren Ann                 11\n",
              "Bon Appétit Musique       11\n",
              "Édith Piaf                11\n",
              "Name: artistName, dtype: int64"
            ]
          },
          "metadata": {},
          "execution_count": 34
        }
      ]
    },
    {
      "cell_type": "code",
      "metadata": {
        "colab": {
          "base_uri": "https://localhost:8080/"
        },
        "id": "asWFN81FdSqz",
        "outputId": "e76d7271-2d59-45e9-f9dd-5c312cab5b34"
      },
      "source": [
        "# artistas mais escutados (em minutos)\n",
        "df.groupby(['artistName']).consumptionDurationMin.sum().sort_values(ascending=False)[:10] "
      ],
      "execution_count": null,
      "outputs": [
        {
          "output_type": "execute_result",
          "data": {
            "text/plain": [
              "artistName\n",
              "Arctic Monkeys          5700.47\n",
              "Carla Bruni               74.40\n",
              "Dead Or Alive             50.41\n",
              "Pink Floyd                39.28\n",
              "Françoise Hardy           32.98\n",
              "Madeleine Peyroux         32.35\n",
              "Bon Appétit Musique       30.89\n",
              "The Beatles               29.01\n",
              "Édith Piaf                26.89\n",
              "Lana Del Rey              24.09\n",
              "Name: consumptionDurationMin, dtype: float64"
            ]
          },
          "metadata": {},
          "execution_count": 57
        }
      ]
    },
    {
      "cell_type": "markdown",
      "metadata": {
        "id": "3a3n740VqPmx"
      },
      "source": [
        "###**Q3.Quais as 10 músicas mais tocadas?**"
      ]
    },
    {
      "cell_type": "code",
      "metadata": {
        "id": "15ETgIgA_jTM",
        "colab": {
          "base_uri": "https://localhost:8080/"
        },
        "outputId": "b8e4dfc8-637a-4ff5-e8fe-3ee21d54b92b"
      },
      "source": [
        "df.groupby(['title', 'artistName']).consumptionDurationMin.count().sort_values(ascending=False)[:10] "
      ],
      "execution_count": null,
      "outputs": [
        {
          "output_type": "execute_result",
          "data": {
            "text/plain": [
              "title                                     artistName     \n",
              "Too Much To Ask                           Arctic Monkeys     133\n",
              "Crying Lightning                          Arctic Monkeys     114\n",
              "Do Me a Favour                            Arctic Monkeys      94\n",
              "Batphone                                  Arctic Monkeys      93\n",
              "Piledriver Waltz                          Arctic Monkeys      74\n",
              "Do I Wanna Know?                          Arctic Monkeys      72\n",
              "Secret Door                               Arctic Monkeys      72\n",
              "Fireside                                  Arctic Monkeys      70\n",
              "Why'd You Only Call Me When You're High?  Arctic Monkeys      62\n",
              "Fake Tales Of San Francisco               Arctic Monkeys      61\n",
              "Name: consumptionDurationMin, dtype: int64"
            ]
          },
          "metadata": {},
          "execution_count": 58
        }
      ]
    },
    {
      "cell_type": "code",
      "metadata": {
        "colab": {
          "base_uri": "https://localhost:8080/"
        },
        "id": "NfxPN4fqqmZX",
        "outputId": "7bb0abfa-c4f2-4d94-a00b-9c3c63b84d2a"
      },
      "source": [
        "# musicas mais escutadas (em minutos)\n",
        "df.groupby(['title', 'artistName']).consumptionDurationMin.sum().sort_values(ascending=False)[:10] "
      ],
      "execution_count": null,
      "outputs": [
        {
          "output_type": "execute_result",
          "data": {
            "text/plain": [
              "title                        artistName     \n",
              "Crying Lightning             Arctic Monkeys     342.16\n",
              "Batphone                     Arctic Monkeys     326.81\n",
              "Too Much To Ask              Arctic Monkeys     272.27\n",
              "Do Me a Favour               Arctic Monkeys     254.01\n",
              "Do I Wanna Know?             Arctic Monkeys     234.17\n",
              "Secret Door                  Arctic Monkeys     216.20\n",
              "Star Treatment               Arctic Monkeys     189.46\n",
              "Piledriver Waltz             Arctic Monkeys     179.60\n",
              "Fireside                     Arctic Monkeys     177.44\n",
              "Fake Tales Of San Francisco  Arctic Monkeys     158.21\n",
              "Name: consumptionDurationMin, dtype: float64"
            ]
          },
          "metadata": {},
          "execution_count": 59
        }
      ]
    },
    {
      "cell_type": "code",
      "metadata": {
        "colab": {
          "base_uri": "https://localhost:8080/"
        },
        "id": "64tYBut8Kqh_",
        "outputId": "34810af8-d408-47ef-b285-51bbcf70cca8"
      },
      "source": [
        "# as 10 músicas que eu mais escutei até o fim\n",
        "df[df.consumptionDurationMin == df.trackLengthMin].groupby(\"title\")['consumptionDurationMin'].count().sort_values(ascending=False)[:10]"
      ],
      "execution_count": null,
      "outputs": [
        {
          "output_type": "execute_result",
          "data": {
            "text/plain": [
              "title\n",
              "Crying Lightning                            42\n",
              "Why'd You Only Call Me When You're High?    33\n",
              "Fake Tales Of San Francisco                 32\n",
              "Do Me a Favour                              32\n",
              "Potion Approaching                          29\n",
              "Secret Door                                 27\n",
              "My Propeller                                25\n",
              "Piledriver Waltz                            24\n",
              "R U Mine?                                   20\n",
              "Too Much To Ask                             20\n",
              "Name: consumptionDurationMin, dtype: int64"
            ]
          },
          "metadata": {},
          "execution_count": 28
        }
      ]
    },
    {
      "cell_type": "markdown",
      "metadata": {
        "id": "d7kPCREYttJG"
      },
      "source": [
        "###**Q4.Quais as 10 músicas mais tocadas que não sejam da banda Arctic Monkeys?**"
      ]
    },
    {
      "cell_type": "code",
      "metadata": {
        "id": "o3SSdXxS-J6X"
      },
      "source": [
        "new_df = df.drop(df[df.artistName == \"Arctic Monkeys \"].index, axis=0)"
      ],
      "execution_count": null,
      "outputs": []
    },
    {
      "cell_type": "code",
      "metadata": {
        "colab": {
          "base_uri": "https://localhost:8080/"
        },
        "id": "mpKJEZthWrMl",
        "outputId": "f206465f-916c-43f5-bb47-8f86721d0325"
      },
      "source": [
        "new_df.groupby(['title', 'artistName']).consumptionDurationMin.count().sort_values(ascending=False)[:10] "
      ],
      "execution_count": null,
      "outputs": [
        {
          "output_type": "execute_result",
          "data": {
            "text/plain": [
              "title                                        artistName          \n",
              "Quelqu'un m'a dit                            Carla Bruni             38\n",
              "Tous les garçons et les filles (Remastered)  Françoise Hardy         21\n",
              "You Spin Me Round (Like a Record)            Dead Or Alive           19\n",
              "J'ai Deux Amours                             Madeleine Peyroux       15\n",
              "Le plus beau du quartier                     Carla Bruni             15\n",
              "Wish You Were Here                           Pink Floyd              12\n",
              "La belle vie                                 Sacha Distel            12\n",
              "Jardin d'hiver                               Keren Ann               11\n",
              "La Vie en rose                               Édith Piaf              11\n",
              "Vous Qui Passez Sans Me Voir                 Bon Appétit Musique     11\n",
              "Name: consumptionDurationMin, dtype: int64"
            ]
          },
          "metadata": {},
          "execution_count": 63
        }
      ]
    },
    {
      "cell_type": "code",
      "metadata": {
        "colab": {
          "base_uri": "https://localhost:8080/"
        },
        "id": "sZSjabyyXR7m",
        "outputId": "c6457bdd-8d46-4ec6-8595-7dbdbdfde977"
      },
      "source": [
        "# musicas mais escutadas (em minutos)\n",
        "new_df.groupby(['title', 'artistName']).consumptionDurationMin.sum().sort_values(ascending=False)[:10] "
      ],
      "execution_count": null,
      "outputs": [
        {
          "output_type": "execute_result",
          "data": {
            "text/plain": [
              "title                                          artistName          \n",
              "You Spin Me Round (Like a Record)              Dead Or Alive           50.41\n",
              "Wish You Were Here                             Pink Floyd              39.28\n",
              "Le plus beau du quartier                       Carla Bruni             37.86\n",
              "Quelqu'un m'a dit                              Carla Bruni             36.54\n",
              "Tous les garçons et les filles (Remastered)    Françoise Hardy         32.98\n",
              "J'ai Deux Amours                               Madeleine Peyroux       32.35\n",
              "Vous Qui Passez Sans Me Voir                   Bon Appétit Musique     30.89\n",
              "I Want You (She's So Heavy) (Remastered 2009)  The Beatles             29.01\n",
              "La Vie en rose                                 Édith Piaf              26.89\n",
              "Acquainted [Explicit]                          The Weeknd              22.98\n",
              "Name: consumptionDurationMin, dtype: float64"
            ]
          },
          "metadata": {},
          "execution_count": 64
        }
      ]
    },
    {
      "cell_type": "markdown",
      "source": [
        "### Wordcloud com as músicas mais tocadas"
      ],
      "metadata": {
        "id": "GyROiKrUVLfl"
      }
    },
    {
      "cell_type": "code",
      "source": [
        "fav_songs = df[\"title\"].value_counts()\n",
        "\n",
        "fig, ax = plt.subplots(figsize=(10,15))\n",
        "wordcloud = WordCloud(width=1000, height=600, max_words=70, relative_scaling=1, colormap='Set3', normalize_plurals=False).generate_from_frequencies(fav_songs)\n",
        "ax.imshow(wordcloud, interpolation='bilinear')\n",
        "plt.axis(False);"
      ],
      "metadata": {
        "colab": {
          "base_uri": "https://localhost:8080/",
          "height": 366
        },
        "id": "PZr26pux8pHU",
        "outputId": "feb56d05-efd8-4d85-e94b-559154477ba7"
      },
      "execution_count": null,
      "outputs": [
        {
          "output_type": "display_data",
          "data": {
            "text/plain": [
              "<Figure size 720x1080 with 1 Axes>"
            ],
            "image/png": "[encoded data removed]"
          },
          "metadata": {
            "needs_background": "light"
          }
        }
      ]
    },
    {
      "cell_type": "markdown",
      "source": [
        "###**Q5. Em qual dia da semana eu escuto música com mais frequência?**"
      ],
      "metadata": {
        "id": "7Oy3G7mqXSQa"
      }
    },
    {
      "cell_type": "code",
      "source": [
        "print(df.groupby('weekday')['timestamp'].count())\n",
        "\n",
        "# Monday=0, Sunday=6\n",
        "fig, ax = plt.subplots(figsize=(10,5))\n",
        "ax = sns.countplot(x=df['weekday'], ax=ax, color=\"navy\")\n",
        "ax.set_title('Músicas tocadas por Dia da Semana', fontsize=15);"
      ],
      "metadata": {
        "colab": {
          "base_uri": "https://localhost:8080/",
          "height": 509
        },
        "id": "rjvgTIarA9Oq",
        "outputId": "450e5efb-d5e8-492a-b997-b285f6444233"
      },
      "execution_count": null,
      "outputs": [
        {
          "output_type": "stream",
          "name": "stdout",
          "text": [
            "weekday\n",
            "0    341\n",
            "1    479\n",
            "2    378\n",
            "3    327\n",
            "4    385\n",
            "5    104\n",
            "6    361\n",
            "Name: timestamp, dtype: int64\n"
          ]
        },
        {
          "output_type": "display_data",
          "data": {
            "text/plain": [
              "<Figure size 720x360 with 1 Axes>"
            ],
            "image/png": "[encoded data removed]"
          },
          "metadata": {
            "needs_background": "light"
          }
        }
      ]
    },
    {
      "cell_type": "markdown",
      "metadata": {
        "id": "ofiiJzfM2bbI"
      },
      "source": [
        "\n",
        "###**Q6. Em que hora do dia eu escuto música com mais frequência?**"
      ]
    },
    {
      "cell_type": "code",
      "source": [
        "fig, ax = plt.subplots(figsize=(15,5))\n",
        "ax = sns.countplot(x=df['hour'], ax=ax, color=\"navy\")\n",
        "ax.set_title('Músicas tocadas por hora', fontsize=17);"
      ],
      "metadata": {
        "colab": {
          "base_uri": "https://localhost:8080/",
          "height": 354
        },
        "id": "m3uETBtKAhwl",
        "outputId": "fb7fe5a2-47e1-4ca8-bcc2-f32a8878bf07"
      },
      "execution_count": null,
      "outputs": [
        {
          "output_type": "display_data",
          "data": {
            "text/plain": [
              "<Figure size 1080x360 with 1 Axes>"
            ],
            "image/png": "[encoded data removed]"
          },
          "metadata": {
            "needs_background": "light"
          }
        }
      ]
    },
    {
      "cell_type": "markdown",
      "source": [
        "###**Q7. Em qual mês eu mais escutei música na Amazon?**"
      ],
      "metadata": {
        "id": "dgbG_q7OX-Xb"
      }
    },
    {
      "cell_type": "code",
      "source": [
        "fig, ax = plt.subplots(figsize=(12,6))\n",
        "ax = sns.countplot(y=df['timestamp'].dt.month, ax=ax, color=\"navy\")\n",
        "ax.set_title('Músicas tocadas por mês', fontsize=17);\n",
        "ax.set_ylabel(\"Months\")\n",
        "plt.tight_layout()"
      ],
      "metadata": {
        "colab": {
          "base_uri": "https://localhost:8080/",
          "height": 441
        },
        "id": "TNC-XA0isoUF",
        "outputId": "07b2a464-1655-48a2-8465-3486e3d4b28a"
      },
      "execution_count": null,
      "outputs": [
        {
          "output_type": "display_data",
          "data": {
            "text/plain": [
              "<Figure size 864x432 with 1 Axes>"
            ],
            "image/png": "[encoded data removed]"
          },
          "metadata": {
            "needs_background": "light"
          }
        }
      ]
    },
    {
      "cell_type": "markdown",
      "source": [
        "### Heatmap: Uso ativo Horas x Dia da semana "
      ],
      "metadata": {
        "id": "gZfb_0ryYSmm"
      }
    },
    {
      "cell_type": "code",
      "source": [
        "usage = df.groupby(['hour', 'weekday'])['artistName'].size().reset_index()\n",
        "usage_pivot = usage.pivot(\"hour\", 'weekday', 'artistName') # .pivot(index, columns, values)\n",
        "usage_pivot.head()"
      ],
      "metadata": {
        "colab": {
          "base_uri": "https://localhost:8080/",
          "height": 238
        },
        "id": "cO8Z2hFuxjrr",
        "outputId": "c734e6eb-978a-49f3-a3f7-1489a5f34872"
      },
      "execution_count": null,
      "outputs": [
        {
          "output_type": "execute_result",
          "data": {
            "text/plain": [
              "weekday     0    1     2     3     4   5    6\n",
              "hour                                         \n",
              "0         NaN  NaN   NaN   NaN  13.0 NaN  1.0\n",
              "6         1.0  NaN   NaN   NaN   NaN NaN  NaN\n",
              "8         NaN  7.0   NaN   NaN   1.0 NaN  NaN\n",
              "9        17.0  2.0   1.0   3.0   3.0 NaN  4.0\n",
              "10       20.0  3.0  24.0  12.0  46.0 NaN  1.0"
            ],
            "text/html": [
              "\n",
              "  <div id=\"df-a66e814e-6d98-42fb-9af1-5e0fc4f51f7f\">\n",
              "    <div class=\"colab-df-container\">\n",
              "      <div>\n",
              "<style scoped>\n",
              "    .dataframe tbody tr th:only-of-type {\n",
              "        vertical-align: middle;\n",
              "    }\n",
              "\n",
              "    .dataframe tbody tr th {\n",
              "        vertical-align: top;\n",
              "    }\n",
              "\n",
              "    .dataframe thead th {\n",
              "        text-align: right;\n",
              "    }\n",
              "</style>\n",
              "<table border=\"1\" class=\"dataframe\">\n",
              "  <thead>\n",
              "    <tr style=\"text-align: right;\">\n",
              "      <th>weekday</th>\n",
              "      <th>0</th>\n",
              "      <th>1</th>\n",
              "      <th>2</th>\n",
              "      <th>3</th>\n",
              "      <th>4</th>\n",
              "      <th>5</th>\n",
              "      <th>6</th>\n",
              "    </tr>\n",
              "    <tr>\n",
              "      <th>hour</th>\n",
              "      <th></th>\n",
              "      <th></th>\n",
              "      <th></th>\n",
              "      <th></th>\n",
              "      <th></th>\n",
              "      <th></th>\n",
              "      <th></th>\n",
              "    </tr>\n",
              "  </thead>\n",
              "  <tbody>\n",
              "    <tr>\n",
              "      <th>0</th>\n",
              "      <td>NaN</td>\n",
              "      <td>NaN</td>\n",
              "      <td>NaN</td>\n",
              "      <td>NaN</td>\n",
              "      <td>13.0</td>\n",
              "      <td>NaN</td>\n",
              "      <td>1.0</td>\n",
              "    </tr>\n",
              "    <tr>\n",
              "      <th>6</th>\n",
              "      <td>1.0</td>\n",
              "      <td>NaN</td>\n",
              "      <td>NaN</td>\n",
              "      <td>NaN</td>\n",
              "      <td>NaN</td>\n",
              "      <td>NaN</td>\n",
              "      <td>NaN</td>\n",
              "    </tr>\n",
              "    <tr>\n",
              "      <th>8</th>\n",
              "      <td>NaN</td>\n",
              "      <td>7.0</td>\n",
              "      <td>NaN</td>\n",
              "      <td>NaN</td>\n",
              "      <td>1.0</td>\n",
              "      <td>NaN</td>\n",
              "      <td>NaN</td>\n",
              "    </tr>\n",
              "    <tr>\n",
              "      <th>9</th>\n",
              "      <td>17.0</td>\n",
              "      <td>2.0</td>\n",
              "      <td>1.0</td>\n",
              "      <td>3.0</td>\n",
              "      <td>3.0</td>\n",
              "      <td>NaN</td>\n",
              "      <td>4.0</td>\n",
              "    </tr>\n",
              "    <tr>\n",
              "      <th>10</th>\n",
              "      <td>20.0</td>\n",
              "      <td>3.0</td>\n",
              "      <td>24.0</td>\n",
              "      <td>12.0</td>\n",
              "      <td>46.0</td>\n",
              "      <td>NaN</td>\n",
              "      <td>1.0</td>\n",
              "    </tr>\n",
              "  </tbody>\n",
              "</table>\n",
              "</div>\n",
              "      <button class=\"colab-df-convert\" onclick=\"convertToInteractive('df-a66e814e-6d98-42fb-9af1-5e0fc4f51f7f')\"\n",
              "              title=\"Convert this dataframe to an interactive table.\"\n",
              "              style=\"display:none;\">\n",
              "        \n",
              "  <svg xmlns=\"http://www.w3.org/2000/svg\" height=\"24px\"viewBox=\"0 0 24 24\"\n",
              "       width=\"24px\">\n",
              "    <path d=\"M0 0h24v24H0V0z\" fill=\"none\"/>\n",
              "    <path d=\"M18.56 5.44l.94 2.06.94-2.06 2.06-.94-2.06-.94-.94-2.06-.94 2.06-2.06.94zm-11 1L8.5 8.5l.94-2.06 2.06-.94-2.06-.94L8.5 2.5l-.94 2.06-2.06.94zm10 10l.94 2.06.94-2.06 2.06-.94-2.06-.94-.94-2.06-.94 2.06-2.06.94z\"/><path d=\"M17.41 7.96l-1.37-1.37c-.4-.4-.92-.59-1.43-.59-.52 0-1.04.2-1.43.59L10.3 9.45l-7.72 7.72c-.78.78-.78 2.05 0 2.83L4 21.41c.39.39.9.59 1.41.59.51 0 1.02-.2 1.41-.59l7.78-7.78 2.81-2.81c.8-.78.8-2.07 0-2.86zM5.41 20L4 18.59l7.72-7.72 1.47 1.35L5.41 20z\"/>\n",
              "  </svg>\n",
              "      </button>\n",
              "      \n",
              "  <style>\n",
              "    .colab-df-container {\n",
              "      display:flex;\n",
              "      flex-wrap:wrap;\n",
              "      gap: 12px;\n",
              "    }\n",
              "\n",
              "    .colab-df-convert {\n",
              "      background-color: #E8F0FE;\n",
              "      border: none;\n",
              "      border-radius: 50%;\n",
              "      cursor: pointer;\n",
              "      display: none;\n",
              "      fill: #1967D2;\n",
              "      height: 32px;\n",
              "      padding: 0 0 0 0;\n",
              "      width: 32px;\n",
              "    }\n",
              "\n",
              "    .colab-df-convert:hover {\n",
              "      background-color: #E2EBFA;\n",
              "      box-shadow: 0px 1px 2px rgba(60, 64, 67, 0.3), 0px 1px 3px 1px rgba(60, 64, 67, 0.15);\n",
              "      fill: #174EA6;\n",
              "    }\n",
              "\n",
              "    [theme=dark] .colab-df-convert {\n",
              "      background-color: #3B4455;\n",
              "      fill: #D2E3FC;\n",
              "    }\n",
              "\n",
              "    [theme=dark] .colab-df-convert:hover {\n",
              "      background-color: #434B5C;\n",
              "      box-shadow: 0px 1px 3px 1px rgba(0, 0, 0, 0.15);\n",
              "      filter: drop-shadow(0px 1px 2px rgba(0, 0, 0, 0.3));\n",
              "      fill: #FFFFFF;\n",
              "    }\n",
              "  </style>\n",
              "\n",
              "      <script>\n",
              "        const buttonEl =\n",
              "          document.querySelector('#df-a66e814e-6d98-42fb-9af1-5e0fc4f51f7f button.colab-df-convert');\n",
              "        buttonEl.style.display =\n",
              "          google.colab.kernel.accessAllowed ? 'block' : 'none';\n",
              "\n",
              "        async function convertToInteractive(key) {\n",
              "          const element = document.querySelector('#df-a66e814e-6d98-42fb-9af1-5e0fc4f51f7f');\n",
              "          const dataTable =\n",
              "            await google.colab.kernel.invokeFunction('convertToInteractive',\n",
              "                                                     [key], {});\n",
              "          if (!dataTable) return;\n",
              "\n",
              "          const docLinkHtml = 'Like what you see? Visit the ' +\n",
              "            '<a target=\"_blank\" href=https://colab.research.google.com/notebooks/data_table.ipynb>data table notebook</a>'\n",
              "            + ' to learn more about interactive tables.';\n",
              "          element.innerHTML = '';\n",
              "          dataTable['output_type'] = 'display_data';\n",
              "          await google.colab.output.renderOutput(dataTable, element);\n",
              "          const docLink = document.createElement('div');\n",
              "          docLink.innerHTML = docLinkHtml;\n",
              "          element.appendChild(docLink);\n",
              "        }\n",
              "      </script>\n",
              "    </div>\n",
              "  </div>\n",
              "  "
            ]
          },
          "metadata": {},
          "execution_count": 52
        }
      ]
    },
    {
      "cell_type": "code",
      "source": [
        "days_name = ['Mon', 'Tue', 'Wed', 'Thu', 'Fri', 'Sat', 'Sun']\n",
        "\n",
        "fig, ax = plt.subplots(figsize=(15,12))\n",
        "ax = sns.heatmap(active_usage_pivot.fillna(0), robust=True, cmap=\"Blues\", ax = ax, xticklabels=days_name);\n",
        "ax.set(title=\"Heat Map Amazon Music\", xlabel=\"Days of the Week\", ylabel=\"Time(in 24 hrs format)\");"
      ],
      "metadata": {
        "colab": {
          "base_uri": "https://localhost:8080/",
          "height": 730
        },
        "id": "apawMnGCx_7H",
        "outputId": "91727003-1eda-4e92-b1eb-e65304abf7f4"
      },
      "execution_count": null,
      "outputs": [
        {
          "output_type": "display_data",
          "data": {
            "text/plain": [
              "<Figure size 1080x864 with 2 Axes>"
            ],
            "image/png": "[encoded data removed]"
          },
          "metadata": {
            "needs_background": "light"
          }
        }
      ]
    }
  ]
}